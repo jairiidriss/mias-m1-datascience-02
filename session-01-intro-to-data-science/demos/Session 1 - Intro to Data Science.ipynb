{
 "cells": [
  {
   "cell_type": "markdown",
   "id": "1fd17f0f",
   "metadata": {},
   "source": [
    "## Session 1: Into to Data Science"
   ]
  },
  {
   "cell_type": "markdown",
   "id": "05370a7f",
   "metadata": {},
   "source": [
    "### Python Basics: Types, Expressions and Variables, String Operations"
   ]
  },
  {
   "cell_type": "code",
   "execution_count": 4,
   "id": "a1bbbc9e",
   "metadata": {},
   "outputs": [
    {
     "name": "stdout",
     "output_type": "stream",
     "text": [
      "15\n",
      "<class 'float'>\n",
      "The person is a student\n"
     ]
    }
   ],
   "source": [
    "## Types and Variables\n",
    "# Exercise 1\n",
    "num1 = 10\n",
    "num2 = 5\n",
    "print(num1 + num2)\n",
    "\n",
    "# Exercise 2\n",
    "float_num = 3.14\n",
    "print(type(float_num))\n",
    "\n",
    "# Exercise 3\n",
    "is_student = True\n",
    "if is_student:\n",
    "    print(\"The person is a student\")\n",
    "else:\n",
    "    print(\"The person is not a student\")\n"
   ]
  },
  {
   "cell_type": "code",
   "execution_count": 6,
   "id": "9e33f9c9",
   "metadata": {},
   "outputs": [
    {
     "name": "stdout",
     "output_type": "stream",
     "text": [
      "Hello, Your Name!\n",
      "Hello World\n",
      "28\n",
      "e is i\n",
      "Data Science is fascinating!\n"
     ]
    }
   ],
   "source": [
    "## String Operations\n",
    "# Exercise 4\n",
    "name = \"Your Name\"\n",
    "print(\"Hello, \" + name + \"!\")\n",
    "\n",
    "# Exercise 5\n",
    "str1 = \"Hello\"\n",
    "str2 = \"World\"\n",
    "print(str1 + \" \" + str2)\n",
    "\n",
    "# Exercise 6\n",
    "sentence = \"Data Science is interesting!\"\n",
    "print(len(sentence))\n",
    "\n",
    "# Exercise 7\n",
    "extracted_word = sentence[11:17]\n",
    "print(extracted_word)\n",
    "\n",
    "# Exercise 8\n",
    "updated_sentence = sentence.replace(\"interesting\", \"fascinating\")\n",
    "print(updated_sentence)"
   ]
  },
  {
   "cell_type": "code",
   "execution_count": 7,
   "id": "e40f22fd",
   "metadata": {},
   "outputs": [
    {
     "name": "stdout",
     "output_type": "stream",
     "text": [
      "19\n",
      "78.5\n",
      "Integer Division: 3\n",
      "Remainder: 1\n",
      "78\n"
     ]
    }
   ],
   "source": [
    "## Expressions\n",
    "# Exercise 9\n",
    "result = (5 * 3) + (2 ** 2)\n",
    "print(result)\n",
    "\n",
    "# Exercise 10\n",
    "radius = 5\n",
    "area_of_circle = 3.14 * (radius ** 2)\n",
    "print(area_of_circle)\n",
    "\n",
    "# Exercise 11\n",
    "a = 10\n",
    "b = 3\n",
    "integer_division_result = a // b\n",
    "remainder_result = a % b\n",
    "print(\"Integer Division:\", integer_division_result)\n",
    "print(\"Remainder:\", remainder_result)\n",
    "\n",
    "# Exercise 12\n",
    "area_integer = int(area_of_circle)\n",
    "print(area_integer)"
   ]
  },
  {
   "cell_type": "markdown",
   "id": "9a4c0827",
   "metadata": {},
   "source": [
    "### Python Data Structures: Lists and Tuples, Sets, Dictionaries"
   ]
  },
  {
   "cell_type": "code",
   "execution_count": 8,
   "id": "980276a9",
   "metadata": {},
   "outputs": [
    {
     "name": "stdout",
     "output_type": "stream",
     "text": [
      "['apple', 'orange', 'banana']\n",
      "['apple', 'orange', 'banana', 'grape', 'kiwi']\n",
      "(1, 2, 3)\n",
      "2\n"
     ]
    }
   ],
   "source": [
    "## Lists and Tuples\n",
    "# Exercise 1\n",
    "fruits = [\"apple\", \"orange\", \"banana\"]\n",
    "print(fruits)\n",
    "\n",
    "# Exercise 2\n",
    "fruits.extend([\"grape\", \"kiwi\"])\n",
    "print(fruits)\n",
    "\n",
    "# Exercise 3\n",
    "numbers = (1, 2, 3)\n",
    "print(numbers)\n",
    "\n",
    "# Exercise 4\n",
    "print(numbers[1])"
   ]
  },
  {
   "cell_type": "code",
   "execution_count": 9,
   "id": "89c893b7",
   "metadata": {},
   "outputs": [
    {
     "name": "stdout",
     "output_type": "stream",
     "text": [
      "Set 1: {1, 2, 3, 4}\n",
      "Set 2: {3, 4, 5, 6}\n",
      "Intersection Set: {3, 4}\n",
      "Updated Set 1: {1, 2, 3, 4, 7}\n",
      "Updated Set 2: {4, 5, 6}\n"
     ]
    }
   ],
   "source": [
    "## Sets\n",
    "# Exercise 5\n",
    "set1 = {1, 2, 3, 4}\n",
    "set2 = {3, 4, 5, 6}\n",
    "print(\"Set 1:\", set1)\n",
    "print(\"Set 2:\", set2)\n",
    "\n",
    "# Exercise 6\n",
    "intersection_set = set1.intersection(set2)\n",
    "print(\"Intersection Set:\", intersection_set)\n",
    "\n",
    "# Exercise 7\n",
    "set1.add(7)\n",
    "set2.remove(3)\n",
    "print(\"Updated Set 1:\", set1)\n",
    "print(\"Updated Set 2:\", set2)"
   ]
  },
  {
   "cell_type": "code",
   "execution_count": 10,
   "id": "a581ac40",
   "metadata": {},
   "outputs": [
    {
     "name": "stdout",
     "output_type": "stream",
     "text": [
      "{'name': 'John', 'age': 30, 'city': 'New York'}\n",
      "Age: 30\n",
      "Updated Person: {'name': 'John', 'age': 30, 'city': 'New York', 'occupation': 'Engineer'}\n",
      "List of People: [{'name': 'Alice', 'age': 25, 'city': 'London'}, {'name': 'Bob', 'age': 35, 'city': 'Paris'}, {'name': 'Charlie', 'age': 28, 'city': 'Berlin'}]\n"
     ]
    }
   ],
   "source": [
    "## Dictionaries\n",
    "# Exercise 8\n",
    "person = {\"name\": \"John\", \"age\": 30, \"city\": \"New York\"}\n",
    "print(person)\n",
    "\n",
    "# Exercise 9\n",
    "print(\"Age:\", person[\"age\"])\n",
    "\n",
    "# Exercise 10\n",
    "person[\"occupation\"] = \"Engineer\"\n",
    "print(\"Updated Person:\", person)\n",
    "\n",
    "# Exercise 11\n",
    "people_list = [\n",
    "    {\"name\": \"Alice\", \"age\": 25, \"city\": \"London\"},\n",
    "    {\"name\": \"Bob\", \"age\": 35, \"city\": \"Paris\"},\n",
    "    {\"name\": \"Charlie\", \"age\": 28, \"city\": \"Berlin\"}\n",
    "]\n",
    "print(\"List of People:\", people_list)"
   ]
  },
  {
   "cell_type": "markdown",
   "id": "9c9541f3",
   "metadata": {},
   "source": [
    "### Python Programming Fundamentals: Conditions and Branching, Loops, Functions, Objects and Classes"
   ]
  },
  {
   "cell_type": "code",
   "execution_count": 11,
   "id": "5541c530",
   "metadata": {},
   "outputs": [
    {
     "name": "stdout",
     "output_type": "stream",
     "text": [
      "Enter a number: 3\n",
      "Positive\n",
      "Enter a number: 0\n",
      "Even\n"
     ]
    }
   ],
   "source": [
    "## Conditions and Branching\n",
    "# Exercise 1\n",
    "number = int(input(\"Enter a number: \"))\n",
    "if number > 0:\n",
    "    print(\"Positive\")\n",
    "elif number < 0:\n",
    "    print(\"Negative\")\n",
    "else:\n",
    "    print(\"Zero\")\n",
    "\n",
    "# Exercise 2\n",
    "number = int(input(\"Enter a number: \"))\n",
    "if number % 2 == 0:\n",
    "    print(\"Even\")\n",
    "else:\n",
    "    print(\"Odd\")"
   ]
  },
  {
   "cell_type": "code",
   "execution_count": 12,
   "id": "ad43b1a3",
   "metadata": {},
   "outputs": [
    {
     "name": "stdout",
     "output_type": "stream",
     "text": [
      "3\n",
      "6\n",
      "9\n",
      "12\n",
      "15\n",
      "Sum: 55\n"
     ]
    }
   ],
   "source": [
    "## Loops\n",
    "# Exercise 3\n",
    "for i in range(1, 6):\n",
    "    print(3 * i)\n",
    "\n",
    "# Exercise 4\n",
    "sum_numbers = 0\n",
    "counter = 1\n",
    "while counter <= 10:\n",
    "    sum_numbers += counter\n",
    "    counter += 1\n",
    "print(\"Sum:\", sum_numbers)"
   ]
  },
  {
   "cell_type": "code",
   "execution_count": 15,
   "id": "a6423fb6",
   "metadata": {},
   "outputs": [
    {
     "name": "stdout",
     "output_type": "stream",
     "text": [
      "Square value of  4 is 16\n",
      "is 5 a prime number? True\n"
     ]
    }
   ],
   "source": [
    "## Functions\n",
    "# Exercise 5\n",
    "def square(num):\n",
    "    return num ** 2\n",
    "\n",
    "# Exercise 6\n",
    "def is_prime(num):\n",
    "    if num < 2:\n",
    "        return False\n",
    "    for i in range(2, int(num**0.5) + 1):\n",
    "        if num % i == 0:\n",
    "            return False\n",
    "    return True\n",
    "\n",
    "print(\"Square value of \", 4, \"is\", square(4))\n",
    "print(\"is 5 a prime number?\", is_prime(5))"
   ]
  },
  {
   "cell_type": "code",
   "execution_count": 17,
   "id": "a894dc57",
   "metadata": {},
   "outputs": [
    {
     "name": "stdout",
     "output_type": "stream",
     "text": [
      "Hello, my name is John and I am 25 years old.\n"
     ]
    }
   ],
   "source": [
    "## Classes and Objects\n",
    "# Exercise 7\n",
    "class Person:\n",
    "    def __init__(self, name, age):\n",
    "        self.name = name\n",
    "        self.age = age\n",
    "\n",
    "# Exercise 8\n",
    "    def greeting(self):\n",
    "        print(f\"Hello, my name is {self.name} and I am {self.age} years old.\")\n",
    "\n",
    "# Exercise 9\n",
    "person1 = Person(\"John\", 25)\n",
    "person1.greeting()"
   ]
  },
  {
   "cell_type": "code",
   "execution_count": 20,
   "id": "b643929c",
   "metadata": {},
   "outputs": [],
   "source": [
    "# Exercise 10\n",
    "class Rectangle:\n",
    "    def __init__(self, length, width):\n",
    "        self.length = length\n",
    "        self.width = width\n",
    "\n",
    "    def area(self):\n",
    "        return self.length * self.width\n",
    "\n",
    "    def perimeter(self):\n",
    "        return 2 * (self.length + self.width)\n",
    "\n",
    "## TO-DO\n",
    "# Create an instance/object of Rectangle class\n",
    "# Print the area and the perimeter of that object"
   ]
  },
  {
   "cell_type": "markdown",
   "id": "023bd123",
   "metadata": {},
   "source": [
    "<b>To-Do Exercise:</b>\n",
    "Write a Python program that does the following:\n",
    "\n",
    "1. Takes a user's name as input.\n",
    "\n",
    "2. Checks if the name is longer than 5 characters. If yes, print \"Long name.\" If no, print \"Short name.\"\n",
    "\n",
    "3. Asks the user to enter their age.\n",
    "\n",
    "4. Checks if the age is greater than or equal to 18. If yes, print \"You are eligible.\" If no, print \"You are not eligible.\"\n",
    "\n",
    "5. Uses a loop to print the squares of numbers from 1 to 5.\n",
    "\n",
    "6. Defines a function named calculate_area that takes the length and width of a rectangle as arguments and returns the area. Call this function with length=4 and width=6 and print the result.\n",
    "\n",
    "7. Creates a class named Car with attributes make and model. Initializes an object of the class with the make \"Toyota\" and model \"Camry.\" Print the make and model.\n",
    "\n",
    "8. Adds a method to the Car class named start_engine that prints \"Engine started.\" Call this method on the car object.\n",
    "\n",
    "9. Uses the is_prime function from a previous exercise to check if the user's age is a prime number. If yes, print \"Prime age.\" If no, print \"Not a prime age.\""
   ]
  },
  {
   "cell_type": "markdown",
   "id": "755d3b8c",
   "metadata": {},
   "source": [
    "### Numerical Computition with NumPy"
   ]
  },
  {
   "cell_type": "code",
   "execution_count": 21,
   "id": "9016afde",
   "metadata": {},
   "outputs": [],
   "source": [
    "# Importing the numpy library, if it is not installed, check: https://numpy.org/install/\n",
    "import numpy as np"
   ]
  },
  {
   "cell_type": "code",
   "execution_count": 22,
   "id": "f80636e9",
   "metadata": {},
   "outputs": [
    {
     "name": "stdout",
     "output_type": "stream",
     "text": [
      "Addition: [6 6 6 6 6]\n",
      "Subtraction: [-4 -2  0  2  4]\n",
      "Multiplication: [5 8 9 8 5]\n",
      "Division: [0.2 0.5 1.  2.  5. ]\n",
      "Zeros Array: [0. 0. 0. 0. 0. 0. 0. 0. 0. 0.]\n",
      "Ones Array: [1. 1. 1. 1. 1. 1. 1. 1. 1. 1.]\n",
      "Equally Spaced Array: [0.         0.05263158 0.10526316 0.15789474 0.21052632 0.26315789\n",
      " 0.31578947 0.36842105 0.42105263 0.47368421 0.52631579 0.57894737\n",
      " 0.63157895 0.68421053 0.73684211 0.78947368 0.84210526 0.89473684\n",
      " 0.94736842 1.        ]\n"
     ]
    }
   ],
   "source": [
    "import numpy as np\n",
    "\n",
    "# Basic NumPy Operations:\n",
    "# Exercise 1\n",
    "arr1 = np.array([1, 2, 3, 4, 5])\n",
    "arr2 = np.array([5, 4, 3, 2, 1])\n",
    "print(\"Addition:\", arr1 + arr2)\n",
    "print(\"Subtraction:\", arr1 - arr2)\n",
    "print(\"Multiplication:\", arr1 * arr2)\n",
    "print(\"Division:\", arr1 / arr2)\n",
    "\n",
    "# Exercise 2\n",
    "zeros_array = np.zeros(10)\n",
    "ones_array = np.ones(10)\n",
    "print(\"Zeros Array:\", zeros_array)\n",
    "print(\"Ones Array:\", ones_array)\n",
    "\n",
    "# Exercise 3\n",
    "equally_spaced_array = np.linspace(0, 1, 20)\n",
    "print(\"Equally Spaced Array:\", equally_spaced_array)"
   ]
  },
  {
   "cell_type": "code",
   "execution_count": 23,
   "id": "41ffb30e",
   "metadata": {},
   "outputs": [
    {
     "name": "stdout",
     "output_type": "stream",
     "text": [
      "Matrix Multiplication: [[ 30  24  18]\n",
      " [ 84  69  54]\n",
      " [138 114  90]]\n",
      "Dot Product: [48 54 60]\n"
     ]
    }
   ],
   "source": [
    "# Linear Algebra with NumPy:\n",
    "# Exercise 4\n",
    "matrix1 = np.array([[1, 2, 3], [4, 5, 6], [7, 8, 9]])\n",
    "matrix2 = np.array([[9, 8, 7], [6, 5, 4], [3, 2, 1]])\n",
    "matrix_product = np.dot(matrix1, matrix2)\n",
    "print(\"Matrix Multiplication:\", matrix_product)\n",
    "\n",
    "# Exercise 5\n",
    "v = np.array([1, 2, 3])\n",
    "m = np.array([[4, 5, 6], [7, 8, 9], [10, 11, 12]])\n",
    "dot_product = np.dot(v, m)\n",
    "print(\"Dot Product:\", dot_product)"
   ]
  },
  {
   "cell_type": "code",
   "execution_count": 24,
   "id": "b5dd94d3",
   "metadata": {},
   "outputs": [
    {
     "name": "stdout",
     "output_type": "stream",
     "text": [
      "Mean: -0.00773169048515805\n",
      "Standard Deviation: 1.0321194017653723\n",
      "Variance: 1.0652704595005102\n",
      "Median: 3.0\n",
      "Mode: 4\n"
     ]
    }
   ],
   "source": [
    "# Statistical Operations:\n",
    "# Exercise 6\n",
    "random_array = np.random.randn(100)\n",
    "mean_value = np.mean(random_array)\n",
    "std_deviation = np.std(random_array)\n",
    "variance = np.var(random_array)\n",
    "print(\"Mean:\", mean_value)\n",
    "print(\"Standard Deviation:\", std_deviation)\n",
    "print(\"Variance:\", variance)\n",
    "\n",
    "# Exercise 7\n",
    "data = np.array([1, 2, 2, 3, 3, 3, 4, 4, 4, 4])\n",
    "median_value = np.median(data)\n",
    "mode_values = np.unique(data)[np.argmax(np.unique(data, return_counts=True)[1])]\n",
    "print(\"Median:\", median_value)\n",
    "print(\"Mode:\", mode_values)"
   ]
  },
  {
   "cell_type": "code",
   "execution_count": 25,
   "id": "7277c126",
   "metadata": {},
   "outputs": [
    {
     "name": "stdout",
     "output_type": "stream",
     "text": [
      "Sliced Numbers: [3 4 5 6 7]\n",
      "Updated Numbers: [ 0  1  2  3  4 50 51 52 53 54]\n"
     ]
    }
   ],
   "source": [
    "# NumPy Indexing and Slicing:\n",
    "# Exercise 8\n",
    "numbers = np.array([0, 1, 2, 3, 4, 5, 6, 7, 8, 9])\n",
    "sliced_numbers = numbers[3:8]\n",
    "print(\"Sliced Numbers:\", sliced_numbers)\n",
    "\n",
    "# Exercise 9\n",
    "numbers[5:10] = np.array([50, 51, 52, 53, 54])\n",
    "print(\"Updated Numbers:\", numbers)"
   ]
  },
  {
   "cell_type": "code",
   "execution_count": 26,
   "id": "b55460d9",
   "metadata": {},
   "outputs": [
    {
     "name": "stdout",
     "output_type": "stream",
     "text": [
      "Sine Values: [0.00000000e+00 7.07106781e-01 1.00000000e+00 7.07106781e-01\n",
      " 1.22464680e-16]\n",
      "Cosine Values: [ 1.00000000e+00  7.07106781e-01  6.12323400e-17 -7.07106781e-01\n",
      " -1.00000000e+00]\n",
      "Tangent Values: [ 0.00000000e+00  1.00000000e+00  1.63312394e+16 -1.00000000e+00\n",
      " -1.22464680e-16]\n"
     ]
    }
   ],
   "source": [
    "# Universal Functions (ufunc):\n",
    "# Exercise 10\n",
    "angles = np.array([0, np.pi/4, np.pi/2, 3*np.pi/4, np.pi])\n",
    "sin_values = np.sin(angles)\n",
    "cos_values = np.cos(angles)\n",
    "tan_values = np.tan(angles)\n",
    "print(\"Sine Values:\", sin_values)\n",
    "print(\"Cosine Values:\", cos_values)\n",
    "print(\"Tangent Values:\", tan_values)"
   ]
  },
  {
   "cell_type": "code",
   "execution_count": 30,
   "id": "62ccef2c",
   "metadata": {},
   "outputs": [
    {
     "name": "stdout",
     "output_type": "stream",
     "text": [
      "Broadcasting - Added 10 to the Matrix: [[11 12 13]\n",
      " [14 15 16]\n",
      " [17 18 19]]\n",
      "Broadcasting - Added Array to Each Column of Matrix: [[12 13 14]\n",
      " [16 17 18]\n",
      " [20 21 22]]\n"
     ]
    }
   ],
   "source": [
    "# Broadcasting:\n",
    "# Exercise 11\n",
    "matrix = np.array([[1, 2, 3], [4, 5, 6], [7, 8, 9]])\n",
    "matrix += 10\n",
    "print(\"Broadcasting - Added 10 to the Matrix:\", matrix)\n",
    "\n",
    "# Exercise 12\n",
    "array = np.array([[1], [2], [3]])\n",
    "result = matrix + array\n",
    "print(\"Broadcasting - Added Array to Each Column of Matrix:\", result)"
   ]
  },
  {
   "cell_type": "code",
   "execution_count": null,
   "id": "931847cf",
   "metadata": {},
   "outputs": [],
   "source": [
    "## TO-DO Exercise\n",
    "# Generate a random 2D array with shape 4 columns and 3 rows\n",
    "random_2d_array = np.random.randint(1, 100, size=(?, ?))\n",
    "\n",
    "# Display the generated array\n",
    "print(\"Generated 2D Array:\")\n",
    "print(random_2d_array)\n",
    "\n",
    "# Calculate mean, standard deviation, and median for each row\n",
    "row_means = np.?\n",
    "row_std_dev = np.?\n",
    "row_medians = np.?\n",
    "\n",
    "# Calculate mean, standard deviation, and median for each column\n",
    "column_means = np.?\n",
    "column_std_dev = np.?\n",
    "column_medians = np.?\n",
    "\n",
    "# Display the results\n",
    "?"
   ]
  },
  {
   "cell_type": "code",
   "execution_count": null,
   "id": "6217625a",
   "metadata": {},
   "outputs": [],
   "source": [
    "## TO-DO Exercise\n",
    "\n",
    "# Step 1\n",
    "matrix_A = ?\n",
    "matrix_B = ?\n",
    "\n",
    "# Step 2\n",
    "product_matrix = np.?\n",
    "\n",
    "# Step 3\n",
    "transposed_matrix = product_matrix.?\n",
    "\n",
    "# Step 4\n",
    "determinant_transposed = np.linalg.det(transposed_matrix)\n",
    "\n",
    "# Display results\n",
    "print(\"Matrix A:\\n\", matrix_A)\n",
    "print(\"\\nMatrix B:\\n\", matrix_B)\n",
    "print(\"\\nMatrix Product (A * B):\\n\", product_matrix)\n",
    "print(\"\\nTransposed Matrix:\\n\", transposed_matrix)\n",
    "print(\"\\nDeterminant of Transposed Matrix:\", determinant_transposed)"
   ]
  },
  {
   "cell_type": "markdown",
   "id": "94fbcc79",
   "metadata": {},
   "source": [
    "### Data Manipulation with Pandas"
   ]
  },
  {
   "cell_type": "code",
   "execution_count": 7,
   "id": "83035076",
   "metadata": {},
   "outputs": [],
   "source": [
    "# Importing the pandas library, if it is not installed, check: https://pandas.pydata.org/docs/getting_started/install.html\n",
    "import pandas as pd"
   ]
  },
  {
   "cell_type": "code",
   "execution_count": 14,
   "id": "63e7c78c",
   "metadata": {},
   "outputs": [],
   "source": [
    "data = {\n",
    "    'Name': ['Alice', 'Bob', 'Charlie', 'David'],\n",
    "    'Age': [25, 30, 35, 28],\n",
    "    'City': ['New York', 'San Francisco', 'Los Angeles', 'Chicago']\n",
    "}\n",
    "df = pd.DataFrame(data)\n",
    "#df.set_index('Name', inplace=True)"
   ]
  },
  {
   "cell_type": "code",
   "execution_count": 17,
   "id": "de27908b",
   "metadata": {
    "scrolled": true
   },
   "outputs": [
    {
     "data": {
      "text/plain": [
       "Name      David\n",
       "Age          28\n",
       "City    Chicago\n",
       "Name: 3, dtype: object"
      ]
     },
     "execution_count": 17,
     "metadata": {},
     "output_type": "execute_result"
    }
   ],
   "source": [
    "df.loc[3]"
   ]
  },
  {
   "cell_type": "code",
   "execution_count": 18,
   "id": "2aec23ac",
   "metadata": {},
   "outputs": [
    {
     "data": {
      "text/plain": [
       "Name    0\n",
       "Age     0\n",
       "City    0\n",
       "dtype: int64"
      ]
     },
     "execution_count": 18,
     "metadata": {},
     "output_type": "execute_result"
    }
   ],
   "source": [
    "df.isnull().sum()"
   ]
  },
  {
   "cell_type": "code",
   "execution_count": 19,
   "id": "de319d91",
   "metadata": {},
   "outputs": [
    {
     "data": {
      "text/plain": [
       "Name    0\n",
       "Age     0\n",
       "City    0\n",
       "dtype: int64"
      ]
     },
     "execution_count": 19,
     "metadata": {},
     "output_type": "execute_result"
    }
   ],
   "source": [
    "df.isna().sum()"
   ]
  },
  {
   "cell_type": "code",
   "execution_count": 42,
   "id": "c2dbba37",
   "metadata": {},
   "outputs": [
    {
     "name": "stdout",
     "output_type": "stream",
     "text": [
      "Selected 'Age' column:\n",
      "Name\n",
      "Alice      25\n",
      "Bob        30\n",
      "Charlie    35\n",
      "David      28\n",
      "Name: Age, dtype: int64\n"
     ]
    }
   ],
   "source": [
    "print(\"Selected 'Age' column:\")\n",
    "print(df['Age'])"
   ]
  },
  {
   "cell_type": "code",
   "execution_count": 43,
   "id": "61a161e4",
   "metadata": {},
   "outputs": [
    {
     "name": "stdout",
     "output_type": "stream",
     "text": [
      "Filtered rows where 'Age' is greater than 30:\n",
      "         Age         City\n",
      "Name                     \n",
      "Charlie   35  Los Angeles\n"
     ]
    }
   ],
   "source": [
    "print(\"Filtered rows where 'Age' is greater than 30:\")\n",
    "print(df[df['Age'] > 30])"
   ]
  },
  {
   "cell_type": "code",
   "execution_count": 44,
   "id": "c21fcee5",
   "metadata": {},
   "outputs": [],
   "source": [
    "df['Gender'] = ['Female', 'Male', 'Male', 'Male']\n",
    "df.loc['Alice', 'City'] = 'Boston'"
   ]
  },
  {
   "cell_type": "code",
   "execution_count": 45,
   "id": "f3079da3",
   "metadata": {},
   "outputs": [
    {
     "name": "stdout",
     "output_type": "stream",
     "text": [
      "DataFrame after sorting based on 'Age' in descending order:\n",
      "         Age           City  Gender\n",
      "Name                               \n",
      "Charlie   35    Los Angeles    Male\n",
      "Bob       30  San Francisco    Male\n",
      "David     28        Chicago    Male\n",
      "Alice     25         Boston  Female\n"
     ]
    }
   ],
   "source": [
    "df.sort_values(by='Age', ascending=False, inplace=True)\n",
    "print(\"DataFrame after sorting based on 'Age' in descending order:\")\n",
    "print(df)"
   ]
  },
  {
   "cell_type": "code",
   "execution_count": 46,
   "id": "a1433327",
   "metadata": {},
   "outputs": [
    {
     "name": "stdout",
     "output_type": "stream",
     "text": [
      "Average age for each city:\n",
      "City\n",
      "Boston           25.0\n",
      "Chicago          28.0\n",
      "Los Angeles      35.0\n",
      "San Francisco    30.0\n",
      "Name: Age, dtype: float64\n"
     ]
    }
   ],
   "source": [
    "grouped_by_city = df.groupby('City')\n",
    "average_age_by_city = grouped_by_city['Age'].mean()\n",
    "print(\"Average age for each city:\")\n",
    "print(average_age_by_city)"
   ]
  },
  {
   "cell_type": "code",
   "execution_count": 47,
   "id": "51aa8b1d",
   "metadata": {},
   "outputs": [],
   "source": [
    "data2 = {\n",
    "    'City': ['New York', 'San Francisco', 'Los Angeles', 'Chicago'],\n",
    "    'Population': [8_398_748, 884_363, 3_979_576, 2_693_976]\n",
    "}\n",
    "df2 = pd.DataFrame(data2)\n",
    "merged_df = pd.merge(df, df2, on='City')"
   ]
  },
  {
   "cell_type": "code",
   "execution_count": 48,
   "id": "3d8302a5",
   "metadata": {},
   "outputs": [],
   "source": [
    "df.loc['David', 'Age'] = np.nan\n",
    "df['Age'].fillna(df['Age'].mean(), inplace=True)"
   ]
  },
  {
   "cell_type": "code",
   "execution_count": 49,
   "id": "0c4efca0",
   "metadata": {
    "scrolled": true
   },
   "outputs": [
    {
     "name": "stdout",
     "output_type": "stream",
     "text": [
      "Pivot Table - Average age for each combination of 'City' and 'Gender':\n",
      "                       Age\n",
      "City          Gender      \n",
      "Boston        Female  25.0\n",
      "Chicago       Male    30.0\n",
      "Los Angeles   Male    35.0\n",
      "San Francisco Male    30.0\n"
     ]
    },
    {
     "name": "stderr",
     "output_type": "stream",
     "text": [
      "C:\\Users\\jairiidriss\\AppData\\Local\\Temp\\ipykernel_13148\\2672783369.py:1: FutureWarning: The provided callable <function mean at 0x000002BC3F0AE700> is currently using DataFrameGroupBy.mean. In a future version of pandas, the provided callable will be used directly. To keep current behavior pass the string \"mean\" instead.\n",
      "  pivot_table = pd.pivot_table(df, values='Age', index=['City', 'Gender'], aggfunc=np.mean)\n"
     ]
    }
   ],
   "source": [
    "pivot_table = pd.pivot_table(df, values='Age', index=['City', 'Gender'], aggfunc=np.mean)\n",
    "print(\"Pivot Table - Average age for each combination of 'City' and 'Gender':\")\n",
    "print(pivot_table)"
   ]
  }
 ],
 "metadata": {
  "kernelspec": {
   "display_name": "Python 3 (ipykernel)",
   "language": "python",
   "name": "python3"
  },
  "language_info": {
   "codemirror_mode": {
    "name": "ipython",
    "version": 3
   },
   "file_extension": ".py",
   "mimetype": "text/x-python",
   "name": "python",
   "nbconvert_exporter": "python",
   "pygments_lexer": "ipython3",
   "version": "3.9.13"
  }
 },
 "nbformat": 4,
 "nbformat_minor": 5
}
